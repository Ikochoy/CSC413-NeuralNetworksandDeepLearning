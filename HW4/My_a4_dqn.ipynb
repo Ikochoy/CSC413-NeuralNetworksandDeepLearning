{
  "nbformat": 4,
  "nbformat_minor": 0,
  "metadata": {
    "colab": {
      "provenance": [],
      "collapsed_sections": [
        "V3szwJAdaoQa",
        "zrLGCk-3ditk",
        "OjP_2jn3SFgv"
      ]
    },
    "kernelspec": {
      "name": "python3",
      "display_name": "Python 3"
    },
    "accelerator": "GPU"
  },
  "cells": [
    {
      "cell_type": "markdown",
      "metadata": {
        "id": "V3szwJAdaoQa"
      },
      "source": [
        "## Enable rendering OpenAI Gym environments from CoLab\n",
        "\n",
        "In this assignemnt, We will use [OpenAI Gym](https://gym.openai.com/) for rendering game envionment for our agent to play and learn. It is possible and important to visualize the game your agent is playing, even on Colab. This section imports the necessary package and functions needed to generate a video in Colab. The video processing steps credit to [here](https://colab.research.google.com/drive/1flu31ulJlgiRL1dnN2ir8wGh9p7Zij2t)."
      ]
    },
    {
      "cell_type": "code",
      "metadata": {
        "id": "M9fFfA-gb8oC"
      },
      "source": [
        "# You will need to run this block twice to make it effective\n",
        "!apt-get update > /dev/null 2>&1\n",
        "!apt-get install cmake > /dev/null 2>&1\n",
        "!pip install --upgrade setuptools 2>&1\n",
        "!pip install ez_setup > /dev/null 2>&1\n",
        "!pip install gym[atari] > /dev/null 2>&1\n",
        "!pip install box2d-py > /dev/null 2>&1\n",
        "!pip install gym[Box_2D] > /dev/null 2>&1"
      ],
      "execution_count": null,
      "outputs": []
    },
    {
      "cell_type": "code",
      "source": [
        "!pip install gym pyvirtualdisplay > /dev/null 2>&1\n",
        "!apt-get install -y xvfb python-opengl ffmpeg > /dev/null 2>&1"
      ],
      "metadata": {
        "id": "NE1QQOVX27dp"
      },
      "execution_count": null,
      "outputs": []
    },
    {
      "cell_type": "markdown",
      "metadata": {
        "id": "QfTPg6uZckCm"
      },
      "source": [
        "Import openAI gym and define the functions used to show the video."
      ]
    },
    {
      "cell_type": "code",
      "metadata": {
        "id": "JLl9cs6ncAf0"
      },
      "source": [
        "import gym\n",
        "from gym.wrappers import Monitor\n",
        "import glob\n",
        "import io\n",
        "import base64\n",
        "from IPython.display import HTML\n",
        "from pyvirtualdisplay import Display\n",
        "from IPython import display as ipythondisplay\n",
        "\n",
        "display = Display(visible=0, size=(1400, 900))\n",
        "display.start()\n",
        "\n",
        "\"\"\"\n",
        "Utility functions to enable video recording of gym environment\n",
        "and displaying it.\n",
        "To enable video, just do \"env = wrap_env(env)\"\"\n",
        "\"\"\"\n",
        "\n",
        "def show_video():\n",
        "  mp4list = glob.glob('video/*.mp4')\n",
        "  if len(mp4list) > 0:\n",
        "    mp4 = mp4list[0]\n",
        "    video = io.open(mp4, 'r+b').read()\n",
        "    encoded = base64.b64encode(video)\n",
        "    ipythondisplay.display(HTML(data='''<video alt=\"test\" autoplay\n",
        "                loop controls style=\"height: 400px;\">\n",
        "                <source src=\"data:video/mp4;base64,{0}\" type=\"video/mp4\" />\n",
        "             </video>'''.format(encoded.decode('ascii'))))\n",
        "  else:\n",
        "    print(\"Could not find video\")\n",
        "\n",
        "\n",
        "def wrap_env(env):\n",
        "  env = Monitor(env, './video', force=True)\n",
        "  return env"
      ],
      "execution_count": null,
      "outputs": []
    },
    {
      "cell_type": "markdown",
      "metadata": {
        "id": "UHkrflTWakKd"
      },
      "source": [
        "Import other packages:\n",
        "\n",
        "We will use Pytorch for building and learning our DQN network."
      ]
    },
    {
      "cell_type": "code",
      "metadata": {
        "id": "9KvZYSl6RrzD"
      },
      "source": [
        "import torch\n",
        "from torch import nn\n",
        "import copy\n",
        "from collections import deque\n",
        "import random\n",
        "from tqdm import tqdm\n",
        "import matplotlib.pyplot as plt\n",
        "\n",
        "random.seed(42)"
      ],
      "execution_count": null,
      "outputs": []
    },
    {
      "cell_type": "markdown",
      "metadata": {
        "id": "zrLGCk-3ditk"
      },
      "source": [
        "## Run the game with random agent."
      ]
    },
    {
      "cell_type": "code",
      "metadata": {
        "id": "ZMcGALcWeWfh",
        "colab": {
          "base_uri": "https://localhost:8080/",
          "height": 456
        },
        "outputId": "96d3bfbc-3d0f-4959-def8-77b06152aa17"
      },
      "source": [
        "from torch import randint\n",
        "from time import sleep\n",
        "\n",
        "env = wrap_env(gym.make('CartPole-v1'))\n",
        "reward_arr = []\n",
        "episode_count = 20\n",
        "for i in tqdm(range(episode_count)):\n",
        "    obs, done, rew = env.reset(), False, 0\n",
        "    env.render()\n",
        "    while not done:\n",
        "        A = randint(0, env.action_space.n, (1,))\n",
        "        obs, reward, done, info = env.step(A.item())\n",
        "        rew += reward\n",
        "        sleep(0.01)\n",
        "    reward_arr.append(rew)\n",
        "print(\"average reward per episode :\", sum(reward_arr) / len(reward_arr))\n",
        "env.close()\n",
        "show_video()"
      ],
      "execution_count": null,
      "outputs": [
        {
          "output_type": "stream",
          "name": "stderr",
          "text": [
            "100%|██████████| 20/20 [00:07<00:00,  2.80it/s]"
          ]
        },
        {
          "output_type": "stream",
          "name": "stdout",
          "text": [
            "average reward per episode : 19.35\n"
          ]
        },
        {
          "output_type": "stream",
          "name": "stderr",
          "text": [
            "\n"
          ]
        },
        {
          "output_type": "display_data",
          "data": {
            "text/plain": [
              "<IPython.core.display.HTML object>"
            ],
            "text/html": [
              "<video alt=\"test\" autoplay \n",
              "                loop controls style=\"height: 400px;\">\n",
              "                <source src=\"data:video/mp4;base64,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\" type=\"video/mp4\" />\n",
              "             </video>"
            ]
          },
          "metadata": {}
        }
      ]
    },
    {
      "cell_type": "markdown",
      "metadata": {
        "id": "Ope0zHAjfXQh"
      },
      "source": [
        "The episode ends when the pole is more than 15 degrees from vertical, or the cart moves more than 2.4 units from the center. The video is short (< 1s) because the pole loses balance immediately.\n",
        "\n",
        "You can see that a random agent is having trouble balancing the CartPole, just like you. However, a difficult game for human may be very simple to a computer. Let's see how we can use DQN to train a agent."
      ]
    },
    {
      "cell_type": "markdown",
      "metadata": {
        "id": "OjP_2jn3SFgv"
      },
      "source": [
        "## Experience Replay\n",
        "\n",
        "The technique of experience replay was first proposed in to resolve temporal correlation in the input data by mixing recent experiences as well past experiences, essentially forcing the input to become independent and identically distributed (i.i.d.). It has been shown that this greatly stabilizes\n",
        "and improves the DQN training procedure."
      ]
    },
    {
      "cell_type": "code",
      "metadata": {
        "id": "SoxW1Jlnk8mS"
      },
      "source": [
        "class ExperienceReplay(object):\n",
        "      def __init__(self, length):\n",
        "        self.experience_replay = deque(maxlen=length)\n",
        "\n",
        "      def collect(self, experience):\n",
        "        self.experience_replay.append(experience)\n",
        "        return\n",
        "\n",
        "      def sample_from_experience(self, sample_size):\n",
        "        if len(self.experience_replay) < sample_size:\n",
        "            sample_size = len(self.experience_replay)\n",
        "        sample = random.sample(self.experience_replay, sample_size)\n",
        "        state = torch.tensor([exp[0] for exp in sample]).float()\n",
        "        action = torch.tensor([exp[1] for exp in sample]).float()\n",
        "        reward = torch.tensor([exp[2] for exp in sample]).float()\n",
        "        next_state = torch.tensor([exp[3] for exp in sample]).float()\n",
        "        return state, action, reward, next_state\n"
      ],
      "execution_count": null,
      "outputs": []
    },
    {
      "cell_type": "markdown",
      "metadata": {
        "id": "CgXwmV2im4Sx"
      },
      "source": [
        "## Build our DQN Network\n",
        "\n",
        "We will use a simple multi-layer neural network to learn the optimal actions. We will use Adam Optimizor and MSE loss for training. **Notice that the loss function and gamma is given to you in the class attribute.**"
      ]
    },
    {
      "cell_type": "code",
      "metadata": {
        "id": "Wmd1pfuRm7MQ"
      },
      "source": [
        "class DQN_Network:\n",
        "\n",
        "    def __init__(self, layer_size_list, lr, seed=1423):\n",
        "        torch.manual_seed(seed)\n",
        "        self.policy_net = self.create_network(layer_size_list)\n",
        "        self.target_net = copy.deepcopy(self.policy_net)\n",
        "\n",
        "        self.loss_fn = torch.nn.MSELoss() # the loss function\n",
        "        self.optimizer = torch.optim.Adam(self.policy_net.parameters(), lr=lr)\n",
        "\n",
        "        self.step = 0\n",
        "        self.gamma = torch.tensor(0.95).float()\n",
        "        return\n",
        "\n",
        "    def create_network(self, layer_size_list):\n",
        "        assert len(layer_size_list) > 1\n",
        "\n",
        "        layers = []\n",
        "        for i in range(len(layer_size_list) - 1):\n",
        "            linear = nn.Linear(layer_size_list[i], layer_size_list[i + 1])\n",
        "\n",
        "            if i < len(layer_size_list) - 2:\n",
        "              activation = nn.Tanh()\n",
        "            else:\n",
        "              activation = nn.Identity()\n",
        "\n",
        "            layers += (linear, activation)\n",
        "        return nn.Sequential(*layers)\n",
        "\n",
        "    def load_pretrained_model(self, model_path):\n",
        "        self.policy_net.load_state_dict(torch.load(model_path))\n",
        "\n",
        "    def save_trained_model(self, model_path=\"cartpole-dqn.pth\"):\n",
        "        torch.save(self.policy_net.state_dict(), model_path)\n"
      ],
      "execution_count": null,
      "outputs": []
    },
    {
      "cell_type": "markdown",
      "metadata": {
        "id": "xKVV16YctASm"
      },
      "source": [
        "## **[Your task]**: complete the function that chooses the next action\n",
        "\n",
        "Choose next action based on **$\\epsilon$-greedy**:\n",
        "\n",
        "\\begin{align}\\text{where} \\quad \\mathcal{a_{t+1}} = \\begin{cases}\n",
        "     \\text{argmax}_{a}Q(a, s)  & \\text{with probability }: 1 - \\epsilon, \\text{exploitation}\\\\\n",
        "     \\text{Uniform}\\{a_{1},...,a_{n}\\} & \\text{with probability}:   \\epsilon, \\text{exploration} \\\\\n",
        "   \\end{cases}\\end{align}"
      ]
    },
    {
      "cell_type": "code",
      "metadata": {
        "id": "iE0gVweYs8xW"
      },
      "source": [
        "def get_action(model, state, action_space_len, epsilon):\n",
        "    # We do not require gradient at this point, because this function will be used either\n",
        "    # during experience collection or during inference\n",
        "\n",
        "    with torch.no_grad():\n",
        "        Qp = model.policy_net(torch.from_numpy(state).float())\n",
        "\n",
        "    ## TODO: select and return action based on epsilon-greedy\n",
        "    ran = random.random()\n",
        "    if ran > epsilon:\n",
        "      return torch.max(Qp, axis=0)[1]\n",
        "    else:\n",
        "      return torch.randint(0, action_space_len, (1,))\n"
      ],
      "execution_count": null,
      "outputs": []
    },
    {
      "cell_type": "markdown",
      "metadata": {
        "id": "iF9a5-IbazjQ"
      },
      "source": [
        "### **[Your task]**: complete the function that train the network for one step\n",
        "\n",
        "Here, you can find an ``train`` function that performs a\n",
        "single step of the optimization.\n",
        "\n",
        "For our training update rule, the loss you are trying to minimize is:\n",
        "\n",
        "\\begin{align}\\text{loss} = Q(s, a) - (r + \\gamma \\max_a Q(s', a))\\end{align}"
      ]
    },
    {
      "cell_type": "code",
      "metadata": {
        "id": "mtx4FAiab0Hp"
      },
      "source": [
        "def train(model, batch_size):\n",
        "    state, action, reward, next_state = memory.sample_from_experience(sample_size=batch_size)\n",
        "\n",
        "    # TODO: predict expected return of current state using main network\n",
        "    # print(action, action.shape) # 16 x 1\n",
        "    qp = torch.max(model.policy_net(state.float()), axis=1)[0]\n",
        "    # TODO: get target return using target network\n",
        "    qp_prime = reward + model.gamma * torch.max(model.target_net(next_state.float()), axis=1)[0]\n",
        "    # print(f\"QP size: {Qp.shape}\")\n",
        "    # print(f\"qp_prime size:{qp_prime.shape}\")\n",
        "    # TODO: compute the loss\n",
        "    loss = model.loss_fn(qp, qp_prime)\n",
        "    model.optimizer.zero_grad()\n",
        "    loss.backward(retain_graph=True)\n",
        "    model.optimizer.step()\n",
        "\n",
        "    model.step += 1\n",
        "    if model.step % 5 == 0:\n",
        "        model.target_net.load_state_dict(model.policy_net.state_dict())\n",
        "\n",
        "    return loss.item()"
      ],
      "execution_count": null,
      "outputs": []
    },
    {
      "cell_type": "markdown",
      "metadata": {
        "id": "uskoe87Uz-Jg"
      },
      "source": [
        "### **[Your task]**: Finish the training loop\n",
        "\n",
        "In this part, you can play around with ```exp_replay_size```, ```episode```, ```epsilon``` and the \"episodo decay\" logic to train your model. **If you have done correctly, you will observe that the training time for the latter episodes is longer than the early episodes. This is because your agent is getting better and better at playing the game and thus each episode takes longer**"
      ]
    },
    {
      "cell_type": "code",
      "metadata": {
        "id": "3NfNnyD6SPpN",
        "colab": {
          "base_uri": "https://localhost:8080/"
        },
        "outputId": "d458a54e-f3c7-4800-fc25-7f54a416cf98"
      },
      "source": [
        "# Create the model\n",
        "env = gym.make('CartPole-v0')\n",
        "input_dim = env.observation_space.shape[0]\n",
        "output_dim = env.action_space.n\n",
        "agent = DQN_Network(layer_size_list=[input_dim, 64, output_dim], lr=1e-3)\n",
        "\n",
        "# Main training loop\n",
        "losses_list, reward_list, episode_len_list, epsilon_list = [], [], [], []\n",
        "\n",
        "# TODO: try different values, it normally takes more than 6k episodes to train\n",
        "exp_replay_size = 300\n",
        "memory = ExperienceReplay(exp_replay_size)\n",
        "episodes = 10000\n",
        "epsilon = 1 # episilon start from 1 and decay gradually.\n",
        "\n",
        "# initiliaze experiance replay\n",
        "index = 0\n",
        "for i in range(exp_replay_size):\n",
        "    obs = env.reset()\n",
        "    done = False\n",
        "    while not done:\n",
        "        A = get_action(agent, obs, env.action_space.n, epsilon=1)\n",
        "        obs_next, reward, done, _ = env.step(A.item())\n",
        "        memory.collect([obs, A.item(), reward, obs_next])\n",
        "        obs = obs_next\n",
        "        index += 1\n",
        "        if index > exp_replay_size:\n",
        "            break\n",
        "\n",
        "index = 128\n",
        "for i in tqdm(range(episodes)):\n",
        "    obs, done, losses, ep_len, rew = env.reset(), False, 0, 0, 0\n",
        "    while not done:\n",
        "        ep_len += 1\n",
        "        A = get_action(agent, obs, env.action_space.n, epsilon)\n",
        "        obs_next, reward, done, _ = env.step(A.item())\n",
        "        memory.collect([obs, A.item(), reward, obs_next])\n",
        "\n",
        "        obs = obs_next\n",
        "        rew += reward\n",
        "        index += 1\n",
        "\n",
        "        if index > 128:\n",
        "            index = 0\n",
        "            for j in range(4):\n",
        "                loss = train(agent, batch_size=16)\n",
        "                losses += loss\n",
        "\n",
        "    # TODO: add epsilon decay rule here!\n",
        "    if epsilon > 0.05:\n",
        "      epsilon = epsilon - 1/10000\n",
        "\n",
        "    losses_list.append(losses / ep_len), reward_list.append(rew)\n",
        "    episode_len_list.append(ep_len), epsilon_list.append(epsilon)\n",
        "\n",
        "print(\"Saving trained model\")\n",
        "agent.save_trained_model(\"cartpole-dqn.pth\")"
      ],
      "execution_count": null,
      "outputs": [
        {
          "output_type": "stream",
          "name": "stderr",
          "text": [
            "100%|██████████| 10000/10000 [02:38<00:00, 62.95it/s]"
          ]
        },
        {
          "output_type": "stream",
          "name": "stdout",
          "text": [
            "Saving trained model\n"
          ]
        },
        {
          "output_type": "stream",
          "name": "stderr",
          "text": [
            "\n"
          ]
        }
      ]
    },
    {
      "cell_type": "markdown",
      "metadata": {
        "id": "CCow7jNXf5YT"
      },
      "source": [
        "## Last Step: evaluate your trained model! **Make sure to include your visualizations (plot+video) in the notebook for your submission!**\n",
        "\n",
        "First we can plot the reward vs. episode. **If you have done correctly, you should see the reward can stabilize at 200 in later episodes**\\"
      ]
    },
    {
      "cell_type": "code",
      "metadata": {
        "id": "-Hy_FP7yeXA4",
        "colab": {
          "base_uri": "https://localhost:8080/",
          "height": 295
        },
        "outputId": "99cf7fdb-31ae-4242-e9a4-4001c6947d6c"
      },
      "source": [
        "def plot_reward(r):\n",
        "    plt.figure(2)\n",
        "    plt.clf()\n",
        "    plt.title('Result')\n",
        "    plt.xlabel('Episode')\n",
        "    plt.ylabel('Reward')\n",
        "    plt.plot(r)\n",
        "\n",
        "plot_reward(reward_list)"
      ],
      "execution_count": null,
      "outputs": [
        {
          "output_type": "display_data",
          "data": {
            "text/plain": [
              "<Figure size 432x288 with 1 Axes>"
            ],
            "image/png": "[encoded data removed]"
          },
          "metadata": {
            "needs_background": "light"
          }
        }
      ]
    },
    {
      "cell_type": "markdown",
      "source": [
        "Next let check out how well your agent plays the game. **If you have done correctly, you should see a relatively longer video (> 3~4s) with a self-balancing pole.**"
      ],
      "metadata": {
        "id": "EixOpGakoyi4"
      }
    },
    {
      "cell_type": "code",
      "metadata": {
        "id": "EMEivKldTGVG",
        "colab": {
          "base_uri": "https://localhost:8080/",
          "height": 456
        },
        "outputId": "c4b4e972-5a3b-400f-f0c0-1a2f45562f26"
      },
      "source": [
        "env = wrap_env(gym.make('CartPole-v1'))\n",
        "\n",
        "input_dim = env.observation_space.shape[0]\n",
        "output_dim = env.action_space.n\n",
        "model_validate = DQN_Network(layer_size_list=[input_dim, 64, output_dim], lr=1e-3)\n",
        "model_validate.load_pretrained_model(\"cartpole-dqn.pth\")\n",
        "\n",
        "reward_arr = []\n",
        "for i in tqdm(range(200)):\n",
        "    obs, done, rew = env.reset(), False, 0\n",
        "    env.render()\n",
        "    while not done:\n",
        "        A = get_action(model_validate, obs, env.action_space.n, epsilon=0)\n",
        "        obs, reward, done, info = env.step(A.item())\n",
        "        rew += reward\n",
        "        # sleep(0.01)\n",
        "\n",
        "    reward_arr.append(rew)\n",
        "print(\"average reward per episode :\", sum(reward_arr) / len(reward_arr))\n",
        "env.close()\n",
        "show_video()"
      ],
      "execution_count": null,
      "outputs": [
        {
          "output_type": "stream",
          "name": "stderr",
          "text": [
            "100%|██████████| 200/200 [00:46<00:00,  4.28it/s]"
          ]
        },
        {
          "output_type": "stream",
          "name": "stdout",
          "text": [
            "average reward per episode : 500.0\n"
          ]
        },
        {
          "output_type": "stream",
          "name": "stderr",
          "text": [
            "\n"
          ]
        },
        {
          "output_type": "display_data",
          "data": {
            "text/plain": [
              "<IPython.core.display.HTML object>"
            ],
            "text/html": [
              "<video alt=\"test\" autoplay \n",
              "                loop controls style=\"height: 400px;\">\n",
              "                <source src=\"data:video/mp4;base64,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\" type=\"video/mp4\" />\n",
              "             </video>"
            ]
          },
          "metadata": {}
        }
      ]
    },
    {
      "cell_type": "markdown",
      "source": [
        "# Writeup\n",
        "Hyperparameters settings\n",
        "```\n",
        "exp_replay_size = 300\n",
        "episodes = 10000\n",
        "```\n",
        "Episilon Decay rule: 1/10000 will be deducted from epsilon when it exceeds 0.05.\n",
        "```\n",
        "if epsilon > 0.05:\n",
        "      epsilon = epsilon - 1/10000\n",
        "```\n",
        "The reward is 500, and as you can see from the video, the pole is balanced in a well manner, and hence the model performs well."
      ],
      "metadata": {
        "id": "E6o9NjOocxib"
      }
    },
    {
      "cell_type": "code",
      "metadata": {
        "id": "VTAa6RAWTKZJ"
      },
      "source": [],
      "execution_count": null,
      "outputs": []
    }
  ]
}